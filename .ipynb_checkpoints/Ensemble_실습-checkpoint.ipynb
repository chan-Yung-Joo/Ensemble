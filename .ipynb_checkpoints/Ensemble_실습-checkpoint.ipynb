{
 "cells": [
  {
   "cell_type": "markdown",
   "id": "e80dd4b1",
   "metadata": {},
   "source": [
    "# UniversalBank Data\n",
    "\n",
    "* (1) 문제: 고객의 다양한 데이터를 기반으로 개인 대출 수락 여부 예측\n",
    "* (2) 불필요하다고 판단되는 변수는 제거\n",
    "* (3) 카테고리 데이터 경우 Dummy 변수(one-hot-vector로 변환)\n",
    "* (4) y값 시각화\n",
    "* (5) Decision Tree, KNN, Bagging, Random Forest, AdaBosst, Graident Boost 선택\n",
    "* (6) Train-Test 0.25 비율로 나눈 후 학습 및 테스트\n",
    "* (7) 검증 - F1_measure, Recall, Accuray 지표 활용\n",
    "\n",
    "### Y -> Personal Loan"
   ]
  },
  {
   "cell_type": "code",
   "execution_count": 98,
   "id": "5e894220",
   "metadata": {},
   "outputs": [],
   "source": [
    "import os\n",
    "import numpy as np\n",
    "import pandas as pd\n",
    "import matplotlib.pyplot as plt\n",
    "%matplotlib inline"
   ]
  },
  {
   "cell_type": "code",
   "execution_count": 99,
   "id": "6df2c785",
   "metadata": {},
   "outputs": [],
   "source": [
    "import seaborn as sns"
   ]
  },
  {
   "cell_type": "code",
   "execution_count": 100,
   "id": "5cb59c3e",
   "metadata": {},
   "outputs": [],
   "source": [
    "input_data = pd.read_csv('./UniversalBank.csv')"
   ]
  },
  {
   "cell_type": "code",
   "execution_count": 101,
   "id": "87ab0a89",
   "metadata": {},
   "outputs": [
    {
     "data": {
      "text/html": [
       "<div>\n",
       "<style scoped>\n",
       "    .dataframe tbody tr th:only-of-type {\n",
       "        vertical-align: middle;\n",
       "    }\n",
       "\n",
       "    .dataframe tbody tr th {\n",
       "        vertical-align: top;\n",
       "    }\n",
       "\n",
       "    .dataframe thead th {\n",
       "        text-align: right;\n",
       "    }\n",
       "</style>\n",
       "<table border=\"1\" class=\"dataframe\">\n",
       "  <thead>\n",
       "    <tr style=\"text-align: right;\">\n",
       "      <th></th>\n",
       "      <th>ID</th>\n",
       "      <th>Age</th>\n",
       "      <th>Experience</th>\n",
       "      <th>Income</th>\n",
       "      <th>ZIP Code</th>\n",
       "      <th>Family</th>\n",
       "      <th>CCAvg</th>\n",
       "      <th>Education</th>\n",
       "      <th>Mortgage</th>\n",
       "      <th>Personal Loan</th>\n",
       "      <th>Securities Account</th>\n",
       "      <th>CD Account</th>\n",
       "      <th>Online</th>\n",
       "      <th>CreditCard</th>\n",
       "    </tr>\n",
       "  </thead>\n",
       "  <tbody>\n",
       "    <tr>\n",
       "      <th>0</th>\n",
       "      <td>1</td>\n",
       "      <td>25</td>\n",
       "      <td>1</td>\n",
       "      <td>49</td>\n",
       "      <td>91107</td>\n",
       "      <td>4</td>\n",
       "      <td>1.6</td>\n",
       "      <td>1</td>\n",
       "      <td>0</td>\n",
       "      <td>0</td>\n",
       "      <td>1</td>\n",
       "      <td>0</td>\n",
       "      <td>0</td>\n",
       "      <td>0</td>\n",
       "    </tr>\n",
       "    <tr>\n",
       "      <th>1</th>\n",
       "      <td>2</td>\n",
       "      <td>45</td>\n",
       "      <td>19</td>\n",
       "      <td>34</td>\n",
       "      <td>90089</td>\n",
       "      <td>3</td>\n",
       "      <td>1.5</td>\n",
       "      <td>1</td>\n",
       "      <td>0</td>\n",
       "      <td>0</td>\n",
       "      <td>1</td>\n",
       "      <td>0</td>\n",
       "      <td>0</td>\n",
       "      <td>0</td>\n",
       "    </tr>\n",
       "    <tr>\n",
       "      <th>2</th>\n",
       "      <td>3</td>\n",
       "      <td>39</td>\n",
       "      <td>15</td>\n",
       "      <td>11</td>\n",
       "      <td>94720</td>\n",
       "      <td>1</td>\n",
       "      <td>1.0</td>\n",
       "      <td>1</td>\n",
       "      <td>0</td>\n",
       "      <td>0</td>\n",
       "      <td>0</td>\n",
       "      <td>0</td>\n",
       "      <td>0</td>\n",
       "      <td>0</td>\n",
       "    </tr>\n",
       "    <tr>\n",
       "      <th>3</th>\n",
       "      <td>4</td>\n",
       "      <td>35</td>\n",
       "      <td>9</td>\n",
       "      <td>100</td>\n",
       "      <td>94112</td>\n",
       "      <td>1</td>\n",
       "      <td>2.7</td>\n",
       "      <td>2</td>\n",
       "      <td>0</td>\n",
       "      <td>0</td>\n",
       "      <td>0</td>\n",
       "      <td>0</td>\n",
       "      <td>0</td>\n",
       "      <td>0</td>\n",
       "    </tr>\n",
       "    <tr>\n",
       "      <th>4</th>\n",
       "      <td>5</td>\n",
       "      <td>35</td>\n",
       "      <td>8</td>\n",
       "      <td>45</td>\n",
       "      <td>91330</td>\n",
       "      <td>4</td>\n",
       "      <td>1.0</td>\n",
       "      <td>2</td>\n",
       "      <td>0</td>\n",
       "      <td>0</td>\n",
       "      <td>0</td>\n",
       "      <td>0</td>\n",
       "      <td>0</td>\n",
       "      <td>1</td>\n",
       "    </tr>\n",
       "    <tr>\n",
       "      <th>...</th>\n",
       "      <td>...</td>\n",
       "      <td>...</td>\n",
       "      <td>...</td>\n",
       "      <td>...</td>\n",
       "      <td>...</td>\n",
       "      <td>...</td>\n",
       "      <td>...</td>\n",
       "      <td>...</td>\n",
       "      <td>...</td>\n",
       "      <td>...</td>\n",
       "      <td>...</td>\n",
       "      <td>...</td>\n",
       "      <td>...</td>\n",
       "      <td>...</td>\n",
       "    </tr>\n",
       "    <tr>\n",
       "      <th>4995</th>\n",
       "      <td>4996</td>\n",
       "      <td>29</td>\n",
       "      <td>3</td>\n",
       "      <td>40</td>\n",
       "      <td>92697</td>\n",
       "      <td>1</td>\n",
       "      <td>1.9</td>\n",
       "      <td>3</td>\n",
       "      <td>0</td>\n",
       "      <td>0</td>\n",
       "      <td>0</td>\n",
       "      <td>0</td>\n",
       "      <td>1</td>\n",
       "      <td>0</td>\n",
       "    </tr>\n",
       "    <tr>\n",
       "      <th>4996</th>\n",
       "      <td>4997</td>\n",
       "      <td>30</td>\n",
       "      <td>4</td>\n",
       "      <td>15</td>\n",
       "      <td>92037</td>\n",
       "      <td>4</td>\n",
       "      <td>0.4</td>\n",
       "      <td>1</td>\n",
       "      <td>85</td>\n",
       "      <td>0</td>\n",
       "      <td>0</td>\n",
       "      <td>0</td>\n",
       "      <td>1</td>\n",
       "      <td>0</td>\n",
       "    </tr>\n",
       "    <tr>\n",
       "      <th>4997</th>\n",
       "      <td>4998</td>\n",
       "      <td>63</td>\n",
       "      <td>39</td>\n",
       "      <td>24</td>\n",
       "      <td>93023</td>\n",
       "      <td>2</td>\n",
       "      <td>0.3</td>\n",
       "      <td>3</td>\n",
       "      <td>0</td>\n",
       "      <td>0</td>\n",
       "      <td>0</td>\n",
       "      <td>0</td>\n",
       "      <td>0</td>\n",
       "      <td>0</td>\n",
       "    </tr>\n",
       "    <tr>\n",
       "      <th>4998</th>\n",
       "      <td>4999</td>\n",
       "      <td>65</td>\n",
       "      <td>40</td>\n",
       "      <td>49</td>\n",
       "      <td>90034</td>\n",
       "      <td>3</td>\n",
       "      <td>0.5</td>\n",
       "      <td>2</td>\n",
       "      <td>0</td>\n",
       "      <td>0</td>\n",
       "      <td>0</td>\n",
       "      <td>0</td>\n",
       "      <td>1</td>\n",
       "      <td>0</td>\n",
       "    </tr>\n",
       "    <tr>\n",
       "      <th>4999</th>\n",
       "      <td>5000</td>\n",
       "      <td>28</td>\n",
       "      <td>4</td>\n",
       "      <td>83</td>\n",
       "      <td>92612</td>\n",
       "      <td>3</td>\n",
       "      <td>0.8</td>\n",
       "      <td>1</td>\n",
       "      <td>0</td>\n",
       "      <td>0</td>\n",
       "      <td>0</td>\n",
       "      <td>0</td>\n",
       "      <td>1</td>\n",
       "      <td>1</td>\n",
       "    </tr>\n",
       "  </tbody>\n",
       "</table>\n",
       "<p>5000 rows × 14 columns</p>\n",
       "</div>"
      ],
      "text/plain": [
       "        ID  Age  Experience  Income  ZIP Code  Family  CCAvg  Education  \\\n",
       "0        1   25           1      49     91107       4    1.6          1   \n",
       "1        2   45          19      34     90089       3    1.5          1   \n",
       "2        3   39          15      11     94720       1    1.0          1   \n",
       "3        4   35           9     100     94112       1    2.7          2   \n",
       "4        5   35           8      45     91330       4    1.0          2   \n",
       "...    ...  ...         ...     ...       ...     ...    ...        ...   \n",
       "4995  4996   29           3      40     92697       1    1.9          3   \n",
       "4996  4997   30           4      15     92037       4    0.4          1   \n",
       "4997  4998   63          39      24     93023       2    0.3          3   \n",
       "4998  4999   65          40      49     90034       3    0.5          2   \n",
       "4999  5000   28           4      83     92612       3    0.8          1   \n",
       "\n",
       "      Mortgage  Personal Loan  Securities Account  CD Account  Online  \\\n",
       "0            0              0                   1           0       0   \n",
       "1            0              0                   1           0       0   \n",
       "2            0              0                   0           0       0   \n",
       "3            0              0                   0           0       0   \n",
       "4            0              0                   0           0       0   \n",
       "...        ...            ...                 ...         ...     ...   \n",
       "4995         0              0                   0           0       1   \n",
       "4996        85              0                   0           0       1   \n",
       "4997         0              0                   0           0       0   \n",
       "4998         0              0                   0           0       1   \n",
       "4999         0              0                   0           0       1   \n",
       "\n",
       "      CreditCard  \n",
       "0              0  \n",
       "1              0  \n",
       "2              0  \n",
       "3              0  \n",
       "4              1  \n",
       "...          ...  \n",
       "4995           0  \n",
       "4996           0  \n",
       "4997           0  \n",
       "4998           0  \n",
       "4999           1  \n",
       "\n",
       "[5000 rows x 14 columns]"
      ]
     },
     "execution_count": 101,
     "metadata": {},
     "output_type": "execute_result"
    }
   ],
   "source": [
    "input_data"
   ]
  },
  {
   "cell_type": "code",
   "execution_count": 102,
   "id": "c9f641de",
   "metadata": {},
   "outputs": [],
   "source": [
    "# 2번 문항\n",
    "data = input_data.drop(['ID', 'ZIP Code'], axis= 1)"
   ]
  },
  {
   "cell_type": "code",
   "execution_count": 103,
   "id": "5e3d9890",
   "metadata": {},
   "outputs": [
    {
     "data": {
      "text/html": [
       "<div>\n",
       "<style scoped>\n",
       "    .dataframe tbody tr th:only-of-type {\n",
       "        vertical-align: middle;\n",
       "    }\n",
       "\n",
       "    .dataframe tbody tr th {\n",
       "        vertical-align: top;\n",
       "    }\n",
       "\n",
       "    .dataframe thead th {\n",
       "        text-align: right;\n",
       "    }\n",
       "</style>\n",
       "<table border=\"1\" class=\"dataframe\">\n",
       "  <thead>\n",
       "    <tr style=\"text-align: right;\">\n",
       "      <th></th>\n",
       "      <th>Age</th>\n",
       "      <th>Experience</th>\n",
       "      <th>Income</th>\n",
       "      <th>Family</th>\n",
       "      <th>CCAvg</th>\n",
       "      <th>Education</th>\n",
       "      <th>Mortgage</th>\n",
       "      <th>Personal Loan</th>\n",
       "      <th>Securities Account</th>\n",
       "      <th>CD Account</th>\n",
       "      <th>Online</th>\n",
       "      <th>CreditCard</th>\n",
       "    </tr>\n",
       "  </thead>\n",
       "  <tbody>\n",
       "    <tr>\n",
       "      <th>0</th>\n",
       "      <td>25</td>\n",
       "      <td>1</td>\n",
       "      <td>49</td>\n",
       "      <td>4</td>\n",
       "      <td>1.6</td>\n",
       "      <td>1</td>\n",
       "      <td>0</td>\n",
       "      <td>0</td>\n",
       "      <td>1</td>\n",
       "      <td>0</td>\n",
       "      <td>0</td>\n",
       "      <td>0</td>\n",
       "    </tr>\n",
       "    <tr>\n",
       "      <th>1</th>\n",
       "      <td>45</td>\n",
       "      <td>19</td>\n",
       "      <td>34</td>\n",
       "      <td>3</td>\n",
       "      <td>1.5</td>\n",
       "      <td>1</td>\n",
       "      <td>0</td>\n",
       "      <td>0</td>\n",
       "      <td>1</td>\n",
       "      <td>0</td>\n",
       "      <td>0</td>\n",
       "      <td>0</td>\n",
       "    </tr>\n",
       "    <tr>\n",
       "      <th>2</th>\n",
       "      <td>39</td>\n",
       "      <td>15</td>\n",
       "      <td>11</td>\n",
       "      <td>1</td>\n",
       "      <td>1.0</td>\n",
       "      <td>1</td>\n",
       "      <td>0</td>\n",
       "      <td>0</td>\n",
       "      <td>0</td>\n",
       "      <td>0</td>\n",
       "      <td>0</td>\n",
       "      <td>0</td>\n",
       "    </tr>\n",
       "    <tr>\n",
       "      <th>3</th>\n",
       "      <td>35</td>\n",
       "      <td>9</td>\n",
       "      <td>100</td>\n",
       "      <td>1</td>\n",
       "      <td>2.7</td>\n",
       "      <td>2</td>\n",
       "      <td>0</td>\n",
       "      <td>0</td>\n",
       "      <td>0</td>\n",
       "      <td>0</td>\n",
       "      <td>0</td>\n",
       "      <td>0</td>\n",
       "    </tr>\n",
       "    <tr>\n",
       "      <th>4</th>\n",
       "      <td>35</td>\n",
       "      <td>8</td>\n",
       "      <td>45</td>\n",
       "      <td>4</td>\n",
       "      <td>1.0</td>\n",
       "      <td>2</td>\n",
       "      <td>0</td>\n",
       "      <td>0</td>\n",
       "      <td>0</td>\n",
       "      <td>0</td>\n",
       "      <td>0</td>\n",
       "      <td>1</td>\n",
       "    </tr>\n",
       "    <tr>\n",
       "      <th>...</th>\n",
       "      <td>...</td>\n",
       "      <td>...</td>\n",
       "      <td>...</td>\n",
       "      <td>...</td>\n",
       "      <td>...</td>\n",
       "      <td>...</td>\n",
       "      <td>...</td>\n",
       "      <td>...</td>\n",
       "      <td>...</td>\n",
       "      <td>...</td>\n",
       "      <td>...</td>\n",
       "      <td>...</td>\n",
       "    </tr>\n",
       "    <tr>\n",
       "      <th>4995</th>\n",
       "      <td>29</td>\n",
       "      <td>3</td>\n",
       "      <td>40</td>\n",
       "      <td>1</td>\n",
       "      <td>1.9</td>\n",
       "      <td>3</td>\n",
       "      <td>0</td>\n",
       "      <td>0</td>\n",
       "      <td>0</td>\n",
       "      <td>0</td>\n",
       "      <td>1</td>\n",
       "      <td>0</td>\n",
       "    </tr>\n",
       "    <tr>\n",
       "      <th>4996</th>\n",
       "      <td>30</td>\n",
       "      <td>4</td>\n",
       "      <td>15</td>\n",
       "      <td>4</td>\n",
       "      <td>0.4</td>\n",
       "      <td>1</td>\n",
       "      <td>85</td>\n",
       "      <td>0</td>\n",
       "      <td>0</td>\n",
       "      <td>0</td>\n",
       "      <td>1</td>\n",
       "      <td>0</td>\n",
       "    </tr>\n",
       "    <tr>\n",
       "      <th>4997</th>\n",
       "      <td>63</td>\n",
       "      <td>39</td>\n",
       "      <td>24</td>\n",
       "      <td>2</td>\n",
       "      <td>0.3</td>\n",
       "      <td>3</td>\n",
       "      <td>0</td>\n",
       "      <td>0</td>\n",
       "      <td>0</td>\n",
       "      <td>0</td>\n",
       "      <td>0</td>\n",
       "      <td>0</td>\n",
       "    </tr>\n",
       "    <tr>\n",
       "      <th>4998</th>\n",
       "      <td>65</td>\n",
       "      <td>40</td>\n",
       "      <td>49</td>\n",
       "      <td>3</td>\n",
       "      <td>0.5</td>\n",
       "      <td>2</td>\n",
       "      <td>0</td>\n",
       "      <td>0</td>\n",
       "      <td>0</td>\n",
       "      <td>0</td>\n",
       "      <td>1</td>\n",
       "      <td>0</td>\n",
       "    </tr>\n",
       "    <tr>\n",
       "      <th>4999</th>\n",
       "      <td>28</td>\n",
       "      <td>4</td>\n",
       "      <td>83</td>\n",
       "      <td>3</td>\n",
       "      <td>0.8</td>\n",
       "      <td>1</td>\n",
       "      <td>0</td>\n",
       "      <td>0</td>\n",
       "      <td>0</td>\n",
       "      <td>0</td>\n",
       "      <td>1</td>\n",
       "      <td>1</td>\n",
       "    </tr>\n",
       "  </tbody>\n",
       "</table>\n",
       "<p>5000 rows × 12 columns</p>\n",
       "</div>"
      ],
      "text/plain": [
       "      Age  Experience  Income  Family  CCAvg  Education  Mortgage  \\\n",
       "0      25           1      49       4    1.6          1         0   \n",
       "1      45          19      34       3    1.5          1         0   \n",
       "2      39          15      11       1    1.0          1         0   \n",
       "3      35           9     100       1    2.7          2         0   \n",
       "4      35           8      45       4    1.0          2         0   \n",
       "...   ...         ...     ...     ...    ...        ...       ...   \n",
       "4995   29           3      40       1    1.9          3         0   \n",
       "4996   30           4      15       4    0.4          1        85   \n",
       "4997   63          39      24       2    0.3          3         0   \n",
       "4998   65          40      49       3    0.5          2         0   \n",
       "4999   28           4      83       3    0.8          1         0   \n",
       "\n",
       "      Personal Loan  Securities Account  CD Account  Online  CreditCard  \n",
       "0                 0                   1           0       0           0  \n",
       "1                 0                   1           0       0           0  \n",
       "2                 0                   0           0       0           0  \n",
       "3                 0                   0           0       0           0  \n",
       "4                 0                   0           0       0           1  \n",
       "...             ...                 ...         ...     ...         ...  \n",
       "4995              0                   0           0       1           0  \n",
       "4996              0                   0           0       1           0  \n",
       "4997              0                   0           0       0           0  \n",
       "4998              0                   0           0       1           0  \n",
       "4999              0                   0           0       1           1  \n",
       "\n",
       "[5000 rows x 12 columns]"
      ]
     },
     "execution_count": 103,
     "metadata": {},
     "output_type": "execute_result"
    }
   ],
   "source": [
    "data"
   ]
  },
  {
   "cell_type": "code",
   "execution_count": 104,
   "id": "c8371f19",
   "metadata": {},
   "outputs": [],
   "source": [
    "# 3번 문항\n",
    "# Education 범주형 데이터를 one - hot - vector로 변환\n",
    "data = pd.get_dummies(data, columns = ['Education'], prefix = 'Education')"
   ]
  },
  {
   "cell_type": "code",
   "execution_count": 105,
   "id": "e7eee498",
   "metadata": {},
   "outputs": [
    {
     "data": {
      "text/html": [
       "<div>\n",
       "<style scoped>\n",
       "    .dataframe tbody tr th:only-of-type {\n",
       "        vertical-align: middle;\n",
       "    }\n",
       "\n",
       "    .dataframe tbody tr th {\n",
       "        vertical-align: top;\n",
       "    }\n",
       "\n",
       "    .dataframe thead th {\n",
       "        text-align: right;\n",
       "    }\n",
       "</style>\n",
       "<table border=\"1\" class=\"dataframe\">\n",
       "  <thead>\n",
       "    <tr style=\"text-align: right;\">\n",
       "      <th></th>\n",
       "      <th>Age</th>\n",
       "      <th>Experience</th>\n",
       "      <th>Income</th>\n",
       "      <th>Family</th>\n",
       "      <th>CCAvg</th>\n",
       "      <th>Mortgage</th>\n",
       "      <th>Personal Loan</th>\n",
       "      <th>Securities Account</th>\n",
       "      <th>CD Account</th>\n",
       "      <th>Online</th>\n",
       "      <th>CreditCard</th>\n",
       "      <th>Education_1</th>\n",
       "      <th>Education_2</th>\n",
       "      <th>Education_3</th>\n",
       "    </tr>\n",
       "  </thead>\n",
       "  <tbody>\n",
       "    <tr>\n",
       "      <th>0</th>\n",
       "      <td>25</td>\n",
       "      <td>1</td>\n",
       "      <td>49</td>\n",
       "      <td>4</td>\n",
       "      <td>1.6</td>\n",
       "      <td>0</td>\n",
       "      <td>0</td>\n",
       "      <td>1</td>\n",
       "      <td>0</td>\n",
       "      <td>0</td>\n",
       "      <td>0</td>\n",
       "      <td>1</td>\n",
       "      <td>0</td>\n",
       "      <td>0</td>\n",
       "    </tr>\n",
       "    <tr>\n",
       "      <th>1</th>\n",
       "      <td>45</td>\n",
       "      <td>19</td>\n",
       "      <td>34</td>\n",
       "      <td>3</td>\n",
       "      <td>1.5</td>\n",
       "      <td>0</td>\n",
       "      <td>0</td>\n",
       "      <td>1</td>\n",
       "      <td>0</td>\n",
       "      <td>0</td>\n",
       "      <td>0</td>\n",
       "      <td>1</td>\n",
       "      <td>0</td>\n",
       "      <td>0</td>\n",
       "    </tr>\n",
       "    <tr>\n",
       "      <th>2</th>\n",
       "      <td>39</td>\n",
       "      <td>15</td>\n",
       "      <td>11</td>\n",
       "      <td>1</td>\n",
       "      <td>1.0</td>\n",
       "      <td>0</td>\n",
       "      <td>0</td>\n",
       "      <td>0</td>\n",
       "      <td>0</td>\n",
       "      <td>0</td>\n",
       "      <td>0</td>\n",
       "      <td>1</td>\n",
       "      <td>0</td>\n",
       "      <td>0</td>\n",
       "    </tr>\n",
       "    <tr>\n",
       "      <th>3</th>\n",
       "      <td>35</td>\n",
       "      <td>9</td>\n",
       "      <td>100</td>\n",
       "      <td>1</td>\n",
       "      <td>2.7</td>\n",
       "      <td>0</td>\n",
       "      <td>0</td>\n",
       "      <td>0</td>\n",
       "      <td>0</td>\n",
       "      <td>0</td>\n",
       "      <td>0</td>\n",
       "      <td>0</td>\n",
       "      <td>1</td>\n",
       "      <td>0</td>\n",
       "    </tr>\n",
       "    <tr>\n",
       "      <th>4</th>\n",
       "      <td>35</td>\n",
       "      <td>8</td>\n",
       "      <td>45</td>\n",
       "      <td>4</td>\n",
       "      <td>1.0</td>\n",
       "      <td>0</td>\n",
       "      <td>0</td>\n",
       "      <td>0</td>\n",
       "      <td>0</td>\n",
       "      <td>0</td>\n",
       "      <td>1</td>\n",
       "      <td>0</td>\n",
       "      <td>1</td>\n",
       "      <td>0</td>\n",
       "    </tr>\n",
       "    <tr>\n",
       "      <th>...</th>\n",
       "      <td>...</td>\n",
       "      <td>...</td>\n",
       "      <td>...</td>\n",
       "      <td>...</td>\n",
       "      <td>...</td>\n",
       "      <td>...</td>\n",
       "      <td>...</td>\n",
       "      <td>...</td>\n",
       "      <td>...</td>\n",
       "      <td>...</td>\n",
       "      <td>...</td>\n",
       "      <td>...</td>\n",
       "      <td>...</td>\n",
       "      <td>...</td>\n",
       "    </tr>\n",
       "    <tr>\n",
       "      <th>4995</th>\n",
       "      <td>29</td>\n",
       "      <td>3</td>\n",
       "      <td>40</td>\n",
       "      <td>1</td>\n",
       "      <td>1.9</td>\n",
       "      <td>0</td>\n",
       "      <td>0</td>\n",
       "      <td>0</td>\n",
       "      <td>0</td>\n",
       "      <td>1</td>\n",
       "      <td>0</td>\n",
       "      <td>0</td>\n",
       "      <td>0</td>\n",
       "      <td>1</td>\n",
       "    </tr>\n",
       "    <tr>\n",
       "      <th>4996</th>\n",
       "      <td>30</td>\n",
       "      <td>4</td>\n",
       "      <td>15</td>\n",
       "      <td>4</td>\n",
       "      <td>0.4</td>\n",
       "      <td>85</td>\n",
       "      <td>0</td>\n",
       "      <td>0</td>\n",
       "      <td>0</td>\n",
       "      <td>1</td>\n",
       "      <td>0</td>\n",
       "      <td>1</td>\n",
       "      <td>0</td>\n",
       "      <td>0</td>\n",
       "    </tr>\n",
       "    <tr>\n",
       "      <th>4997</th>\n",
       "      <td>63</td>\n",
       "      <td>39</td>\n",
       "      <td>24</td>\n",
       "      <td>2</td>\n",
       "      <td>0.3</td>\n",
       "      <td>0</td>\n",
       "      <td>0</td>\n",
       "      <td>0</td>\n",
       "      <td>0</td>\n",
       "      <td>0</td>\n",
       "      <td>0</td>\n",
       "      <td>0</td>\n",
       "      <td>0</td>\n",
       "      <td>1</td>\n",
       "    </tr>\n",
       "    <tr>\n",
       "      <th>4998</th>\n",
       "      <td>65</td>\n",
       "      <td>40</td>\n",
       "      <td>49</td>\n",
       "      <td>3</td>\n",
       "      <td>0.5</td>\n",
       "      <td>0</td>\n",
       "      <td>0</td>\n",
       "      <td>0</td>\n",
       "      <td>0</td>\n",
       "      <td>1</td>\n",
       "      <td>0</td>\n",
       "      <td>0</td>\n",
       "      <td>1</td>\n",
       "      <td>0</td>\n",
       "    </tr>\n",
       "    <tr>\n",
       "      <th>4999</th>\n",
       "      <td>28</td>\n",
       "      <td>4</td>\n",
       "      <td>83</td>\n",
       "      <td>3</td>\n",
       "      <td>0.8</td>\n",
       "      <td>0</td>\n",
       "      <td>0</td>\n",
       "      <td>0</td>\n",
       "      <td>0</td>\n",
       "      <td>1</td>\n",
       "      <td>1</td>\n",
       "      <td>1</td>\n",
       "      <td>0</td>\n",
       "      <td>0</td>\n",
       "    </tr>\n",
       "  </tbody>\n",
       "</table>\n",
       "<p>5000 rows × 14 columns</p>\n",
       "</div>"
      ],
      "text/plain": [
       "      Age  Experience  Income  Family  CCAvg  Mortgage  Personal Loan  \\\n",
       "0      25           1      49       4    1.6         0              0   \n",
       "1      45          19      34       3    1.5         0              0   \n",
       "2      39          15      11       1    1.0         0              0   \n",
       "3      35           9     100       1    2.7         0              0   \n",
       "4      35           8      45       4    1.0         0              0   \n",
       "...   ...         ...     ...     ...    ...       ...            ...   \n",
       "4995   29           3      40       1    1.9         0              0   \n",
       "4996   30           4      15       4    0.4        85              0   \n",
       "4997   63          39      24       2    0.3         0              0   \n",
       "4998   65          40      49       3    0.5         0              0   \n",
       "4999   28           4      83       3    0.8         0              0   \n",
       "\n",
       "      Securities Account  CD Account  Online  CreditCard  Education_1  \\\n",
       "0                      1           0       0           0            1   \n",
       "1                      1           0       0           0            1   \n",
       "2                      0           0       0           0            1   \n",
       "3                      0           0       0           0            0   \n",
       "4                      0           0       0           1            0   \n",
       "...                  ...         ...     ...         ...          ...   \n",
       "4995                   0           0       1           0            0   \n",
       "4996                   0           0       1           0            1   \n",
       "4997                   0           0       0           0            0   \n",
       "4998                   0           0       1           0            0   \n",
       "4999                   0           0       1           1            1   \n",
       "\n",
       "      Education_2  Education_3  \n",
       "0               0            0  \n",
       "1               0            0  \n",
       "2               0            0  \n",
       "3               1            0  \n",
       "4               1            0  \n",
       "...           ...          ...  \n",
       "4995            0            1  \n",
       "4996            0            0  \n",
       "4997            0            1  \n",
       "4998            1            0  \n",
       "4999            0            0  \n",
       "\n",
       "[5000 rows x 14 columns]"
      ]
     },
     "execution_count": 105,
     "metadata": {},
     "output_type": "execute_result"
    }
   ],
   "source": [
    "data"
   ]
  },
  {
   "cell_type": "code",
   "execution_count": 106,
   "id": "a8d1b446",
   "metadata": {},
   "outputs": [],
   "source": [
    "Y = data['Personal Loan']"
   ]
  },
  {
   "cell_type": "code",
   "execution_count": 107,
   "id": "35a0c835",
   "metadata": {},
   "outputs": [],
   "source": [
    "X = data.drop('Personal Loan', axis = 1)"
   ]
  },
  {
   "cell_type": "code",
   "execution_count": 108,
   "id": "7f0a3556",
   "metadata": {},
   "outputs": [
    {
     "data": {
      "text/html": [
       "<div>\n",
       "<style scoped>\n",
       "    .dataframe tbody tr th:only-of-type {\n",
       "        vertical-align: middle;\n",
       "    }\n",
       "\n",
       "    .dataframe tbody tr th {\n",
       "        vertical-align: top;\n",
       "    }\n",
       "\n",
       "    .dataframe thead th {\n",
       "        text-align: right;\n",
       "    }\n",
       "</style>\n",
       "<table border=\"1\" class=\"dataframe\">\n",
       "  <thead>\n",
       "    <tr style=\"text-align: right;\">\n",
       "      <th></th>\n",
       "      <th>Age</th>\n",
       "      <th>Experience</th>\n",
       "      <th>Income</th>\n",
       "      <th>Family</th>\n",
       "      <th>CCAvg</th>\n",
       "      <th>Mortgage</th>\n",
       "      <th>Securities Account</th>\n",
       "      <th>CD Account</th>\n",
       "      <th>Online</th>\n",
       "      <th>CreditCard</th>\n",
       "      <th>Education_1</th>\n",
       "      <th>Education_2</th>\n",
       "      <th>Education_3</th>\n",
       "    </tr>\n",
       "  </thead>\n",
       "  <tbody>\n",
       "    <tr>\n",
       "      <th>0</th>\n",
       "      <td>25</td>\n",
       "      <td>1</td>\n",
       "      <td>49</td>\n",
       "      <td>4</td>\n",
       "      <td>1.6</td>\n",
       "      <td>0</td>\n",
       "      <td>1</td>\n",
       "      <td>0</td>\n",
       "      <td>0</td>\n",
       "      <td>0</td>\n",
       "      <td>1</td>\n",
       "      <td>0</td>\n",
       "      <td>0</td>\n",
       "    </tr>\n",
       "    <tr>\n",
       "      <th>1</th>\n",
       "      <td>45</td>\n",
       "      <td>19</td>\n",
       "      <td>34</td>\n",
       "      <td>3</td>\n",
       "      <td>1.5</td>\n",
       "      <td>0</td>\n",
       "      <td>1</td>\n",
       "      <td>0</td>\n",
       "      <td>0</td>\n",
       "      <td>0</td>\n",
       "      <td>1</td>\n",
       "      <td>0</td>\n",
       "      <td>0</td>\n",
       "    </tr>\n",
       "    <tr>\n",
       "      <th>2</th>\n",
       "      <td>39</td>\n",
       "      <td>15</td>\n",
       "      <td>11</td>\n",
       "      <td>1</td>\n",
       "      <td>1.0</td>\n",
       "      <td>0</td>\n",
       "      <td>0</td>\n",
       "      <td>0</td>\n",
       "      <td>0</td>\n",
       "      <td>0</td>\n",
       "      <td>1</td>\n",
       "      <td>0</td>\n",
       "      <td>0</td>\n",
       "    </tr>\n",
       "    <tr>\n",
       "      <th>3</th>\n",
       "      <td>35</td>\n",
       "      <td>9</td>\n",
       "      <td>100</td>\n",
       "      <td>1</td>\n",
       "      <td>2.7</td>\n",
       "      <td>0</td>\n",
       "      <td>0</td>\n",
       "      <td>0</td>\n",
       "      <td>0</td>\n",
       "      <td>0</td>\n",
       "      <td>0</td>\n",
       "      <td>1</td>\n",
       "      <td>0</td>\n",
       "    </tr>\n",
       "    <tr>\n",
       "      <th>4</th>\n",
       "      <td>35</td>\n",
       "      <td>8</td>\n",
       "      <td>45</td>\n",
       "      <td>4</td>\n",
       "      <td>1.0</td>\n",
       "      <td>0</td>\n",
       "      <td>0</td>\n",
       "      <td>0</td>\n",
       "      <td>0</td>\n",
       "      <td>1</td>\n",
       "      <td>0</td>\n",
       "      <td>1</td>\n",
       "      <td>0</td>\n",
       "    </tr>\n",
       "    <tr>\n",
       "      <th>...</th>\n",
       "      <td>...</td>\n",
       "      <td>...</td>\n",
       "      <td>...</td>\n",
       "      <td>...</td>\n",
       "      <td>...</td>\n",
       "      <td>...</td>\n",
       "      <td>...</td>\n",
       "      <td>...</td>\n",
       "      <td>...</td>\n",
       "      <td>...</td>\n",
       "      <td>...</td>\n",
       "      <td>...</td>\n",
       "      <td>...</td>\n",
       "    </tr>\n",
       "    <tr>\n",
       "      <th>4995</th>\n",
       "      <td>29</td>\n",
       "      <td>3</td>\n",
       "      <td>40</td>\n",
       "      <td>1</td>\n",
       "      <td>1.9</td>\n",
       "      <td>0</td>\n",
       "      <td>0</td>\n",
       "      <td>0</td>\n",
       "      <td>1</td>\n",
       "      <td>0</td>\n",
       "      <td>0</td>\n",
       "      <td>0</td>\n",
       "      <td>1</td>\n",
       "    </tr>\n",
       "    <tr>\n",
       "      <th>4996</th>\n",
       "      <td>30</td>\n",
       "      <td>4</td>\n",
       "      <td>15</td>\n",
       "      <td>4</td>\n",
       "      <td>0.4</td>\n",
       "      <td>85</td>\n",
       "      <td>0</td>\n",
       "      <td>0</td>\n",
       "      <td>1</td>\n",
       "      <td>0</td>\n",
       "      <td>1</td>\n",
       "      <td>0</td>\n",
       "      <td>0</td>\n",
       "    </tr>\n",
       "    <tr>\n",
       "      <th>4997</th>\n",
       "      <td>63</td>\n",
       "      <td>39</td>\n",
       "      <td>24</td>\n",
       "      <td>2</td>\n",
       "      <td>0.3</td>\n",
       "      <td>0</td>\n",
       "      <td>0</td>\n",
       "      <td>0</td>\n",
       "      <td>0</td>\n",
       "      <td>0</td>\n",
       "      <td>0</td>\n",
       "      <td>0</td>\n",
       "      <td>1</td>\n",
       "    </tr>\n",
       "    <tr>\n",
       "      <th>4998</th>\n",
       "      <td>65</td>\n",
       "      <td>40</td>\n",
       "      <td>49</td>\n",
       "      <td>3</td>\n",
       "      <td>0.5</td>\n",
       "      <td>0</td>\n",
       "      <td>0</td>\n",
       "      <td>0</td>\n",
       "      <td>1</td>\n",
       "      <td>0</td>\n",
       "      <td>0</td>\n",
       "      <td>1</td>\n",
       "      <td>0</td>\n",
       "    </tr>\n",
       "    <tr>\n",
       "      <th>4999</th>\n",
       "      <td>28</td>\n",
       "      <td>4</td>\n",
       "      <td>83</td>\n",
       "      <td>3</td>\n",
       "      <td>0.8</td>\n",
       "      <td>0</td>\n",
       "      <td>0</td>\n",
       "      <td>0</td>\n",
       "      <td>1</td>\n",
       "      <td>1</td>\n",
       "      <td>1</td>\n",
       "      <td>0</td>\n",
       "      <td>0</td>\n",
       "    </tr>\n",
       "  </tbody>\n",
       "</table>\n",
       "<p>5000 rows × 13 columns</p>\n",
       "</div>"
      ],
      "text/plain": [
       "      Age  Experience  Income  Family  CCAvg  Mortgage  Securities Account  \\\n",
       "0      25           1      49       4    1.6         0                   1   \n",
       "1      45          19      34       3    1.5         0                   1   \n",
       "2      39          15      11       1    1.0         0                   0   \n",
       "3      35           9     100       1    2.7         0                   0   \n",
       "4      35           8      45       4    1.0         0                   0   \n",
       "...   ...         ...     ...     ...    ...       ...                 ...   \n",
       "4995   29           3      40       1    1.9         0                   0   \n",
       "4996   30           4      15       4    0.4        85                   0   \n",
       "4997   63          39      24       2    0.3         0                   0   \n",
       "4998   65          40      49       3    0.5         0                   0   \n",
       "4999   28           4      83       3    0.8         0                   0   \n",
       "\n",
       "      CD Account  Online  CreditCard  Education_1  Education_2  Education_3  \n",
       "0              0       0           0            1            0            0  \n",
       "1              0       0           0            1            0            0  \n",
       "2              0       0           0            1            0            0  \n",
       "3              0       0           0            0            1            0  \n",
       "4              0       0           1            0            1            0  \n",
       "...          ...     ...         ...          ...          ...          ...  \n",
       "4995           0       1           0            0            0            1  \n",
       "4996           0       1           0            1            0            0  \n",
       "4997           0       0           0            0            0            1  \n",
       "4998           0       1           0            0            1            0  \n",
       "4999           0       1           1            1            0            0  \n",
       "\n",
       "[5000 rows x 13 columns]"
      ]
     },
     "execution_count": 108,
     "metadata": {},
     "output_type": "execute_result"
    }
   ],
   "source": [
    "X"
   ]
  },
  {
   "cell_type": "code",
   "execution_count": 109,
   "id": "7234b7f6",
   "metadata": {},
   "outputs": [
    {
     "data": {
      "text/plain": [
       "<AxesSubplot:xlabel='Personal Loan', ylabel='count'>"
      ]
     },
     "execution_count": 109,
     "metadata": {},
     "output_type": "execute_result"
    },
    {
     "data": {
      "image/png": "[encoded data removed]",
      "text/plain": [
       "<Figure size 432x288 with 1 Axes>"
      ]
     },
     "metadata": {
      "needs_background": "light"
     },
     "output_type": "display_data"
    }
   ],
   "source": [
    "# 4번 문항\n",
    "sns.countplot(x=Y)"
   ]
  },
  {
   "cell_type": "markdown",
   "id": "8a0d1ff5",
   "metadata": {},
   "source": [
    "----\n"
   ]
  },
  {
   "cell_type": "code",
   "execution_count": 110,
   "id": "7652dc35",
   "metadata": {},
   "outputs": [],
   "source": [
    "from sklearn.model_selection import train_test_split"
   ]
  },
  {
   "cell_type": "code",
   "execution_count": 111,
   "id": "c1b9a3d2",
   "metadata": {},
   "outputs": [],
   "source": [
    "Train_X, Test_X, Train_Y, Test_Y = train_test_split(X, Y, test_size = 0.25, random_state = 20220607)"
   ]
  },
  {
   "cell_type": "markdown",
   "id": "29ff8d11",
   "metadata": {},
   "source": [
    "# 1) Decision Tree"
   ]
  },
  {
   "cell_type": "code",
   "execution_count": 112,
   "id": "3e9cc95a",
   "metadata": {},
   "outputs": [],
   "source": [
    "from sklearn.tree import DecisionTreeClassifier as DT"
   ]
  },
  {
   "cell_type": "code",
   "execution_count": 113,
   "id": "f7a88b21",
   "metadata": {},
   "outputs": [],
   "source": [
    "dt = DT(max_depth = None)"
   ]
  },
  {
   "cell_type": "code",
   "execution_count": 114,
   "id": "b5482aab",
   "metadata": {},
   "outputs": [
    {
     "data": {
      "text/plain": [
       "DecisionTreeClassifier()"
      ]
     },
     "execution_count": 114,
     "metadata": {},
     "output_type": "execute_result"
    }
   ],
   "source": [
    "dt.fit(Train_X, Train_Y)"
   ]
  },
  {
   "cell_type": "code",
   "execution_count": 115,
   "id": "428fe75a",
   "metadata": {},
   "outputs": [],
   "source": [
    "pred_Y_dt = dt.predict(Test_X)"
   ]
  },
  {
   "cell_type": "code",
   "execution_count": 116,
   "id": "f3b5a96d",
   "metadata": {},
   "outputs": [
    {
     "data": {
      "text/plain": [
       "array([0, 0, 1, ..., 0, 0, 0])"
      ]
     },
     "execution_count": 116,
     "metadata": {},
     "output_type": "execute_result"
    }
   ],
   "source": [
    "pred_Y_dt"
   ]
  },
  {
   "cell_type": "code",
   "execution_count": 117,
   "id": "5b175661",
   "metadata": {},
   "outputs": [
    {
     "data": {
      "text/plain": [
       "21      0\n",
       "1041    0\n",
       "2403    1\n",
       "3521    0\n",
       "2197    0\n",
       "       ..\n",
       "680     0\n",
       "306     0\n",
       "685     0\n",
       "4369    0\n",
       "1523    0\n",
       "Name: Personal Loan, Length: 1250, dtype: int64"
      ]
     },
     "execution_count": 117,
     "metadata": {},
     "output_type": "execute_result"
    }
   ],
   "source": [
    "Test_Y"
   ]
  },
  {
   "cell_type": "code",
   "execution_count": 118,
   "id": "079b6cfb",
   "metadata": {},
   "outputs": [],
   "source": [
    "from sklearn.metrics import confusion_matrix\n",
    "from sklearn.metrics import accuracy_score\n",
    "from sklearn.metrics import recall_score\n",
    "from sklearn.metrics import f1_score"
   ]
  },
  {
   "cell_type": "code",
   "execution_count": 119,
   "id": "1c103e26",
   "metadata": {},
   "outputs": [
    {
     "name": "stdout",
     "output_type": "stream",
     "text": [
      "Accuracy Score By DT              >> 0.984\n",
      "Recall Score By DT                >> 0.990\n",
      "F1 Measure By DT                  >> 0.991\n"
     ]
    }
   ],
   "source": [
    "acc_dt = accuracy_score(y_true = Test_Y, y_pred = pred_Y_dt)\n",
    "recall_dt = recall_score(y_true = Test_Y, y_pred = pred_Y_dt, pos_label = 0) # 우리는 Positive를 0으로 설정했음\n",
    "f1_dt = f1_score(y_true = Test_Y, y_pred = pred_Y_dt, pos_label = 0)\n",
    "\n",
    "print(\"Accuracy Score By DT              >> {:.3f}\".format(acc_dt))\n",
    "print(\"Recall Score By DT                >> {:.3f}\".format(recall_dt))\n",
    "print(\"F1 Measure By DT                  >> {:.3f}\".format(f1_dt))"
   ]
  },
  {
   "cell_type": "markdown",
   "id": "93cc0b42",
   "metadata": {},
   "source": [
    "----\n",
    "# 2) KNN"
   ]
  },
  {
   "cell_type": "code",
   "execution_count": 120,
   "id": "b257922f",
   "metadata": {},
   "outputs": [],
   "source": [
    "from sklearn.neighbors import KNeighborsClassifier as KNN"
   ]
  },
  {
   "cell_type": "code",
   "execution_count": 121,
   "id": "3ff6f43a",
   "metadata": {},
   "outputs": [],
   "source": [
    "knn = KNN(n_neighbors = 5)"
   ]
  },
  {
   "cell_type": "code",
   "execution_count": 122,
   "id": "8a9d399f",
   "metadata": {},
   "outputs": [
    {
     "data": {
      "text/plain": [
       "KNeighborsClassifier()"
      ]
     },
     "execution_count": 122,
     "metadata": {},
     "output_type": "execute_result"
    }
   ],
   "source": [
    "knn.fit(Train_X, Train_Y)"
   ]
  },
  {
   "cell_type": "code",
   "execution_count": 123,
   "id": "be1b75c8",
   "metadata": {},
   "outputs": [],
   "source": [
    "pred_Y_knn = knn.predict(Test_X)"
   ]
  },
  {
   "cell_type": "code",
   "execution_count": 124,
   "id": "ceb790c3",
   "metadata": {},
   "outputs": [
    {
     "data": {
      "text/plain": [
       "array([0, 0, 0, ..., 0, 0, 0])"
      ]
     },
     "execution_count": 124,
     "metadata": {},
     "output_type": "execute_result"
    }
   ],
   "source": [
    "pred_Y_knn"
   ]
  },
  {
   "cell_type": "code",
   "execution_count": 125,
   "id": "a742a77e",
   "metadata": {},
   "outputs": [
    {
     "name": "stdout",
     "output_type": "stream",
     "text": [
      "Accuracy Score By KNN              >> 0.910\n",
      "Recall Score By KNN                >> 0.980\n",
      "F1 Measure By KNN                  >> 0.952\n"
     ]
    }
   ],
   "source": [
    "acc_knn = accuracy_score(y_true = Test_Y, y_pred = pred_Y_knn)\n",
    "recall_knn = recall_score(y_true = Test_Y, y_pred = pred_Y_knn, pos_label = 0) # 우리는 Positive를 0으로 설정했음\n",
    "f1_knn = f1_score(y_true = Test_Y, y_pred = pred_Y_knn, pos_label = 0)\n",
    "\n",
    "print(\"Accuracy Score By KNN              >> {:.3f}\".format(acc_knn))\n",
    "print(\"Recall Score By KNN                >> {:.3f}\".format(recall_knn))\n",
    "print(\"F1 Measure By KNN                  >> {:.3f}\".format(f1_knn))"
   ]
  },
  {
   "cell_type": "markdown",
   "id": "2d19f865",
   "metadata": {},
   "source": [
    "----\n",
    "# 3) Random Forest"
   ]
  },
  {
   "cell_type": "code",
   "execution_count": 126,
   "id": "3333db3e",
   "metadata": {},
   "outputs": [],
   "source": [
    "from sklearn.ensemble import RandomForestClassifier as RF"
   ]
  },
  {
   "cell_type": "code",
   "execution_count": 127,
   "id": "58434930",
   "metadata": {},
   "outputs": [],
   "source": [
    "rf = RF(n_estimators = 50, max_depth = 5, random_state = 20220607)"
   ]
  },
  {
   "cell_type": "code",
   "execution_count": 128,
   "id": "e7904b08",
   "metadata": {},
   "outputs": [
    {
     "data": {
      "text/plain": [
       "RandomForestClassifier(max_depth=5, n_estimators=50, random_state=20220607)"
      ]
     },
     "execution_count": 128,
     "metadata": {},
     "output_type": "execute_result"
    }
   ],
   "source": [
    "rf.fit(Train_X, Train_Y)"
   ]
  },
  {
   "cell_type": "code",
   "execution_count": 129,
   "id": "efae76fc",
   "metadata": {},
   "outputs": [],
   "source": [
    "pred_Y_rf = rf.predict(Test_X)"
   ]
  },
  {
   "cell_type": "code",
   "execution_count": 130,
   "id": "ff09b731",
   "metadata": {},
   "outputs": [
    {
     "data": {
      "text/plain": [
       "array([0, 0, 0, ..., 0, 0, 0])"
      ]
     },
     "execution_count": 130,
     "metadata": {},
     "output_type": "execute_result"
    }
   ],
   "source": [
    "pred_Y_rf"
   ]
  },
  {
   "cell_type": "code",
   "execution_count": 131,
   "id": "ebc84377",
   "metadata": {},
   "outputs": [
    {
     "name": "stdout",
     "output_type": "stream",
     "text": [
      "Accuracy Score By RF              >> 0.972\n",
      "Recall Score By RF                >> 0.997\n",
      "F1 Measure By RF                  >> 0.985\n"
     ]
    }
   ],
   "source": [
    "acc_rf = accuracy_score(y_true = Test_Y, y_pred = pred_Y_rf)\n",
    "recall_rf = recall_score(y_true = Test_Y, y_pred = pred_Y_rf, pos_label = 0) # 우리는 Positive를 0으로 설정했음\n",
    "f1_rf = f1_score(y_true = Test_Y, y_pred = pred_Y_rf, pos_label = 0)\n",
    "\n",
    "print(\"Accuracy Score By RF              >> {:.3f}\".format(acc_rf))\n",
    "print(\"Recall Score By RF                >> {:.3f}\".format(recall_rf))\n",
    "print(\"F1 Measure By RF                  >> {:.3f}\".format(f1_rf))"
   ]
  },
  {
   "cell_type": "markdown",
   "id": "d7b2db3f",
   "metadata": {},
   "source": [
    "----\n",
    "# 4) Bagging"
   ]
  },
  {
   "cell_type": "code",
   "execution_count": 132,
   "id": "1ef689fc",
   "metadata": {},
   "outputs": [],
   "source": [
    "from sklearn.ensemble import BaggingClassifier as BGC"
   ]
  },
  {
   "cell_type": "code",
   "execution_count": 133,
   "id": "c4a4b0da",
   "metadata": {},
   "outputs": [
    {
     "data": {
      "text/plain": [
       "BaggingClassifier(base_estimator=DecisionTreeClassifier(max_depth=7),\n",
       "                  max_samples=0.5, n_estimators=100, random_state=20220607)"
      ]
     },
     "execution_count": 133,
     "metadata": {},
     "output_type": "execute_result"
    }
   ],
   "source": [
    "model = BGC(base_estimator = DT(max_depth = 7),\n",
    "           n_estimators = 100,\n",
    "           max_samples = 0.5, max_features = 1.0, random_state = 20220607)\n",
    "model.fit(Train_X, Train_Y)"
   ]
  },
  {
   "cell_type": "code",
   "execution_count": 134,
   "id": "bcf437c3",
   "metadata": {},
   "outputs": [],
   "source": [
    "pred_Y_bag1 = model.predict(Test_X)"
   ]
  },
  {
   "cell_type": "code",
   "execution_count": 135,
   "id": "c1deb309",
   "metadata": {},
   "outputs": [
    {
     "name": "stdout",
     "output_type": "stream",
     "text": [
      "Accuracy Score By Bagging(1)              >> 0.982\n",
      "Recall Score By Bagging(1)                >> 0.995\n",
      "F1 Measure By Bagging(1)                  >> 0.990\n"
     ]
    }
   ],
   "source": [
    "acc_bag1 = accuracy_score(y_true = Test_Y, y_pred = pred_Y_bag1)\n",
    "recall_bag1 = recall_score(y_true = Test_Y, y_pred = pred_Y_bag1, pos_label = 0) # 우리는 Positive를 0으로 설정했음\n",
    "f1_bag1 = f1_score(y_true = Test_Y, y_pred = pred_Y_bag1, pos_label = 0)\n",
    "\n",
    "print(\"Accuracy Score By Bagging(1)              >> {:.3f}\".format(acc_bag1))\n",
    "print(\"Recall Score By Bagging(1)                >> {:.3f}\".format(recall_bag1))\n",
    "print(\"F1 Measure By Bagging(1)                  >> {:.3f}\".format(f1_bag1))"
   ]
  },
  {
   "cell_type": "code",
   "execution_count": 136,
   "id": "ffa733d6",
   "metadata": {},
   "outputs": [
    {
     "data": {
      "text/plain": [
       "BaggingClassifier(base_estimator=DecisionTreeClassifier(max_depth=7),\n",
       "                  max_samples=0.5, n_estimators=1000, random_state=20220607)"
      ]
     },
     "execution_count": 136,
     "metadata": {},
     "output_type": "execute_result"
    }
   ],
   "source": [
    "# n_estimators의 값을 조정\n",
    "model2 = BGC(base_estimator = DT(max_depth = 7),\n",
    "           n_estimators = 1000,\n",
    "           max_samples = 0.5, max_features = 1.0, random_state = 20220607)\n",
    "model2.fit(Train_X, Train_Y)"
   ]
  },
  {
   "cell_type": "code",
   "execution_count": 137,
   "id": "fc0e5fbd",
   "metadata": {},
   "outputs": [],
   "source": [
    "pred_Y_bag2 = model2.predict(Test_X)"
   ]
  },
  {
   "cell_type": "code",
   "execution_count": 138,
   "id": "7ce2cdfa",
   "metadata": {},
   "outputs": [
    {
     "name": "stdout",
     "output_type": "stream",
     "text": [
      "Accuracy Score By Bagging(2)              >> 0.982\n",
      "Recall Score By Bagging(2)                >> 0.996\n",
      "F1 Measure By Bagging(2)                  >> 0.990\n"
     ]
    }
   ],
   "source": [
    "acc_bag2 = accuracy_score(y_true = Test_Y, y_pred = pred_Y_bag2)\n",
    "recall_bag2 = recall_score(y_true = Test_Y, y_pred = pred_Y_bag2, pos_label = 0) # 우리는 Positive를 0으로 설정했음\n",
    "f1_bag2 = f1_score(y_true = Test_Y, y_pred = pred_Y_bag2, pos_label = 0)\n",
    "\n",
    "print(\"Accuracy Score By Bagging(2)              >> {:.3f}\".format(acc_bag2))\n",
    "print(\"Recall Score By Bagging(2)                >> {:.3f}\".format(recall_bag2))\n",
    "print(\"F1 Measure By Bagging(2)                  >> {:.3f}\".format(f1_bag2))"
   ]
  },
  {
   "cell_type": "code",
   "execution_count": 139,
   "id": "e97fc2e7",
   "metadata": {},
   "outputs": [],
   "source": [
    "# max_samples의 값을 조정\n",
    "model3 = BGC(base_estimator = DT(max_depth = 7),\n",
    "           n_estimators = 1000,\n",
    "           max_samples = 0.8, max_features = 1.0, random_state = 20220607)"
   ]
  },
  {
   "cell_type": "code",
   "execution_count": 140,
   "id": "091870c9",
   "metadata": {},
   "outputs": [
    {
     "data": {
      "text/plain": [
       "BaggingClassifier(base_estimator=DecisionTreeClassifier(max_depth=7),\n",
       "                  max_samples=0.8, n_estimators=1000, random_state=20220607)"
      ]
     },
     "execution_count": 140,
     "metadata": {},
     "output_type": "execute_result"
    }
   ],
   "source": [
    "model3.fit(Train_X, Train_Y)"
   ]
  },
  {
   "cell_type": "code",
   "execution_count": 141,
   "id": "c61c7b81",
   "metadata": {},
   "outputs": [],
   "source": [
    "pred_Y_bag3 = model3.predict(Test_X)"
   ]
  },
  {
   "cell_type": "code",
   "execution_count": 142,
   "id": "03447a6f",
   "metadata": {},
   "outputs": [
    {
     "name": "stdout",
     "output_type": "stream",
     "text": [
      "Accuracy Score By Bagging(3)              >> 0.980\n",
      "Recall Score By Bagging(3)                >> 0.996\n",
      "F1 Measure By Bagging(3)                  >> 0.989\n"
     ]
    }
   ],
   "source": [
    "acc_bag3 = accuracy_score(y_true = Test_Y, y_pred = pred_Y_bag3)\n",
    "recall_bag3 = recall_score(y_true = Test_Y, y_pred = pred_Y_bag3, pos_label = 0) # 우리는 Positive를 0으로 설정했음\n",
    "f1_bag3 = f1_score(y_true = Test_Y, y_pred = pred_Y_bag3, pos_label = 0)\n",
    "\n",
    "print(\"Accuracy Score By Bagging(3)              >> {:.3f}\".format(acc_bag3))\n",
    "print(\"Recall Score By Bagging(3)                >> {:.3f}\".format(recall_bag3))\n",
    "print(\"F1 Measure By Bagging(3)                  >> {:.3f}\".format(f1_bag3))"
   ]
  },
  {
   "cell_type": "code",
   "execution_count": 143,
   "id": "dd49a008",
   "metadata": {},
   "outputs": [],
   "source": [
    "# max_features의 값을 조정\n",
    "model4 = BGC(base_estimator = DT(max_depth = 7),\n",
    "           n_estimators = 1000,\n",
    "           max_samples = 0.8, max_features = 0.8, random_state = 20220607)"
   ]
  },
  {
   "cell_type": "code",
   "execution_count": 144,
   "id": "64df7a55",
   "metadata": {},
   "outputs": [
    {
     "data": {
      "text/plain": [
       "BaggingClassifier(base_estimator=DecisionTreeClassifier(max_depth=7),\n",
       "                  max_features=0.8, max_samples=0.8, n_estimators=1000,\n",
       "                  random_state=20220607)"
      ]
     },
     "execution_count": 144,
     "metadata": {},
     "output_type": "execute_result"
    }
   ],
   "source": [
    "model4.fit(Train_X, Train_Y)"
   ]
  },
  {
   "cell_type": "code",
   "execution_count": 145,
   "id": "13bafa90",
   "metadata": {},
   "outputs": [],
   "source": [
    "pred_Y_bag4 = model4.predict(Test_X)"
   ]
  },
  {
   "cell_type": "code",
   "execution_count": 146,
   "id": "cca67f14",
   "metadata": {},
   "outputs": [
    {
     "name": "stdout",
     "output_type": "stream",
     "text": [
      "Accuracy Score By Bagging(4)              >> 0.982\n",
      "Recall Score By Bagging(4)                >> 0.997\n",
      "F1 Measure By Bagging(4)                  >> 0.990\n"
     ]
    }
   ],
   "source": [
    "acc_bag4 = accuracy_score(y_true = Test_Y, y_pred = pred_Y_bag4)\n",
    "recall_bag4 = recall_score(y_true = Test_Y, y_pred = pred_Y_bag4, pos_label = 0) # 우리는 Positive를 0으로 설정했음\n",
    "f1_bag4 = f1_score(y_true = Test_Y, y_pred = pred_Y_bag4, pos_label = 0)\n",
    "\n",
    "print(\"Accuracy Score By Bagging(4)              >> {:.3f}\".format(acc_bag4))\n",
    "print(\"Recall Score By Bagging(4)                >> {:.3f}\".format(recall_bag4))\n",
    "print(\"F1 Measure By Bagging(4)                  >> {:.3f}\".format(f1_bag4))"
   ]
  },
  {
   "cell_type": "markdown",
   "id": "9f43f982",
   "metadata": {},
   "source": [
    "----\n",
    "# 5) AdaBoost"
   ]
  },
  {
   "cell_type": "code",
   "execution_count": 147,
   "id": "313778f3",
   "metadata": {},
   "outputs": [],
   "source": [
    "from sklearn.ensemble import AdaBoostClassifier as ADB"
   ]
  },
  {
   "cell_type": "code",
   "execution_count": 148,
   "id": "aa74a774",
   "metadata": {},
   "outputs": [],
   "source": [
    "# AdaBoost도 Parameter들을 조금씩 변경해 가면서 평가 지표를 확인!\n",
    "\n",
    "model_adb1 = ADB(base_estimator = DT(max_depth = 5),\n",
    "         n_estimators = 50, learning_rate = 1.0, random_state = 100)"
   ]
  },
  {
   "cell_type": "code",
   "execution_count": 149,
   "id": "146e44f3",
   "metadata": {},
   "outputs": [
    {
     "data": {
      "text/plain": [
       "AdaBoostClassifier(base_estimator=DecisionTreeClassifier(max_depth=5),\n",
       "                   random_state=100)"
      ]
     },
     "execution_count": 149,
     "metadata": {},
     "output_type": "execute_result"
    }
   ],
   "source": [
    "model_adb1.fit(Train_X, Train_Y)"
   ]
  },
  {
   "cell_type": "code",
   "execution_count": 150,
   "id": "b192c4de",
   "metadata": {},
   "outputs": [],
   "source": [
    "pred_Y_adb1 = model_adb1.predict(Test_X)"
   ]
  },
  {
   "cell_type": "code",
   "execution_count": 151,
   "id": "5687b819",
   "metadata": {},
   "outputs": [
    {
     "name": "stdout",
     "output_type": "stream",
     "text": [
      "Accuracy Score By AdaBoost(1)              >> 0.984\n",
      "Recall Score By AdaBoost(1)                >> 0.997\n",
      "F1 Measure By AdaBoost(1)                  >> 0.991\n"
     ]
    }
   ],
   "source": [
    "acc_adb1 = accuracy_score(y_true = Test_Y, y_pred = pred_Y_adb1)\n",
    "recall_adb1 = recall_score(y_true = Test_Y, y_pred = pred_Y_adb1, pos_label = 0) # 우리는 Positive를 0으로 설정했음\n",
    "f1_adb1 = f1_score(y_true = Test_Y, y_pred = pred_Y_adb1, pos_label = 0)\n",
    "\n",
    "print(\"Accuracy Score By AdaBoost(1)              >> {:.3f}\".format(acc_adb1))\n",
    "print(\"Recall Score By AdaBoost(1)                >> {:.3f}\".format(recall_adb1))\n",
    "print(\"F1 Measure By AdaBoost(1)                  >> {:.3f}\".format(f1_adb1))"
   ]
  },
  {
   "cell_type": "code",
   "execution_count": 152,
   "id": "0c6f56a7",
   "metadata": {},
   "outputs": [],
   "source": [
    "# n_estimators 값 변경\n",
    "\n",
    "model_adb2 = ADB(base_estimator = DT(max_depth = 5),\n",
    "         n_estimators = 1000, learning_rate = 1.0, random_state = 100)"
   ]
  },
  {
   "cell_type": "code",
   "execution_count": 153,
   "id": "44477850",
   "metadata": {},
   "outputs": [
    {
     "data": {
      "text/plain": [
       "AdaBoostClassifier(base_estimator=DecisionTreeClassifier(max_depth=5),\n",
       "                   n_estimators=1000, random_state=100)"
      ]
     },
     "execution_count": 153,
     "metadata": {},
     "output_type": "execute_result"
    }
   ],
   "source": [
    "model_adb2.fit(Train_X, Train_Y)"
   ]
  },
  {
   "cell_type": "code",
   "execution_count": 154,
   "id": "28316bb2",
   "metadata": {},
   "outputs": [],
   "source": [
    "pred_Y_adb2 = model_adb2.predict(Test_X)"
   ]
  },
  {
   "cell_type": "code",
   "execution_count": 155,
   "id": "74744549",
   "metadata": {},
   "outputs": [
    {
     "name": "stdout",
     "output_type": "stream",
     "text": [
      "Accuracy Score By AdaBoost(2)              >> 0.987\n",
      "Recall Score By AdaBoost(2)                >> 0.998\n",
      "F1 Measure By AdaBoost(2)                  >> 0.993\n"
     ]
    }
   ],
   "source": [
    "acc_adb2 = accuracy_score(y_true = Test_Y, y_pred = pred_Y_adb2)\n",
    "recall_adb2 = recall_score(y_true = Test_Y, y_pred = pred_Y_adb2, pos_label = 0) # 우리는 Positive를 0으로 설정했음\n",
    "f1_adb2 = f1_score(y_true = Test_Y, y_pred = pred_Y_adb2, pos_label = 0)\n",
    "\n",
    "print(\"Accuracy Score By AdaBoost(2)              >> {:.3f}\".format(acc_adb2))\n",
    "print(\"Recall Score By AdaBoost(2)                >> {:.3f}\".format(recall_adb2))\n",
    "print(\"F1 Measure By AdaBoost(2)                  >> {:.3f}\".format(f1_adb2))"
   ]
  },
  {
   "cell_type": "code",
   "execution_count": 156,
   "id": "37072a96",
   "metadata": {},
   "outputs": [],
   "source": [
    "# learning_rate 변경(1)\n",
    "\n",
    "model_adb3 = ADB(base_estimator = DT(max_depth = 5),\n",
    "         n_estimators = 50, learning_rate = 0.001, random_state = 100)"
   ]
  },
  {
   "cell_type": "code",
   "execution_count": 157,
   "id": "3ca7495b",
   "metadata": {},
   "outputs": [
    {
     "data": {
      "text/plain": [
       "AdaBoostClassifier(base_estimator=DecisionTreeClassifier(max_depth=5),\n",
       "                   learning_rate=0.001, random_state=100)"
      ]
     },
     "execution_count": 157,
     "metadata": {},
     "output_type": "execute_result"
    }
   ],
   "source": [
    "model_adb3.fit(Train_X, Train_Y)"
   ]
  },
  {
   "cell_type": "code",
   "execution_count": 158,
   "id": "b0211652",
   "metadata": {},
   "outputs": [],
   "source": [
    "pred_Y_adb3 = model_adb3.predict(Test_X)"
   ]
  },
  {
   "cell_type": "code",
   "execution_count": 159,
   "id": "1ce4ef03",
   "metadata": {},
   "outputs": [
    {
     "name": "stdout",
     "output_type": "stream",
     "text": [
      "Accuracy Score By AdaBoost(3)              >> 0.984\n",
      "Recall Score By AdaBoost(3)                >> 0.995\n",
      "F1 Measure By AdaBoost(3)                  >> 0.991\n"
     ]
    }
   ],
   "source": [
    "acc_adb3 = accuracy_score(y_true = Test_Y, y_pred = pred_Y_adb3)\n",
    "recall_adb3 = recall_score(y_true = Test_Y, y_pred = pred_Y_adb3, pos_label = 0) # 우리는 Positive를 0으로 설정했음\n",
    "f1_adb3 = f1_score(y_true = Test_Y, y_pred = pred_Y_adb3, pos_label = 0)\n",
    "\n",
    "print(\"Accuracy Score By AdaBoost(3)              >> {:.3f}\".format(acc_adb3))\n",
    "print(\"Recall Score By AdaBoost(3)                >> {:.3f}\".format(recall_adb3))\n",
    "print(\"F1 Measure By AdaBoost(3)                  >> {:.3f}\".format(f1_adb3))\n",
    "\n",
    "# 학습률을 너무 작게 했더니 평가 지표들의 값이 전체적으로 떨어짐을 볼 수 있음"
   ]
  },
  {
   "cell_type": "code",
   "execution_count": 160,
   "id": "97a615ab",
   "metadata": {},
   "outputs": [],
   "source": [
    "# learning_rate 변경(2)\n",
    "\n",
    "model_adb4 = ADB(base_estimator = DT(max_depth = 5),\n",
    "         n_estimators = 50, learning_rate = 0.35, random_state = 100)"
   ]
  },
  {
   "cell_type": "code",
   "execution_count": 161,
   "id": "9c923523",
   "metadata": {},
   "outputs": [
    {
     "data": {
      "text/plain": [
       "AdaBoostClassifier(base_estimator=DecisionTreeClassifier(max_depth=5),\n",
       "                   learning_rate=0.35, random_state=100)"
      ]
     },
     "execution_count": 161,
     "metadata": {},
     "output_type": "execute_result"
    }
   ],
   "source": [
    "model_adb4.fit(Train_X, Train_Y)"
   ]
  },
  {
   "cell_type": "code",
   "execution_count": 162,
   "id": "5d9cdb96",
   "metadata": {},
   "outputs": [],
   "source": [
    "pred_Y_adb4 = model_adb4.predict(Test_X)"
   ]
  },
  {
   "cell_type": "code",
   "execution_count": 163,
   "id": "9917906e",
   "metadata": {},
   "outputs": [
    {
     "name": "stdout",
     "output_type": "stream",
     "text": [
      "Accuracy Score By AdaBoost(4)              >> 0.982\n",
      "Recall Score By AdaBoost(4)                >> 0.996\n",
      "F1 Measure By AdaBoost(4)                  >> 0.990\n"
     ]
    }
   ],
   "source": [
    "acc_adb4 = accuracy_score(y_true = Test_Y, y_pred = pred_Y_adb4)\n",
    "recall_adb4 = recall_score(y_true = Test_Y, y_pred = pred_Y_adb4, pos_label = 0) # 우리는 Positive를 0으로 설정했음\n",
    "f1_adb4 = f1_score(y_true = Test_Y, y_pred = pred_Y_adb4, pos_label = 0)\n",
    "\n",
    "print(\"Accuracy Score By AdaBoost(4)              >> {:.3f}\".format(acc_adb4))\n",
    "print(\"Recall Score By AdaBoost(4)                >> {:.3f}\".format(recall_adb4))\n",
    "print(\"F1 Measure By AdaBoost(4)                  >> {:.3f}\".format(f1_adb4))"
   ]
  },
  {
   "cell_type": "markdown",
   "id": "250b8f50",
   "metadata": {},
   "source": [
    "----\n",
    "# 6) Gradient Boost"
   ]
  },
  {
   "cell_type": "code",
   "execution_count": 164,
   "id": "75b62608",
   "metadata": {},
   "outputs": [],
   "source": [
    "from sklearn.ensemble import GradientBoostingClassifier as GB"
   ]
  },
  {
   "cell_type": "markdown",
   "id": "7d1fa22d",
   "metadata": {},
   "source": [
    "### GradientBoostingClassifier's Parameter\n",
    "\n",
    "* 1) loss\n",
    "* 2) learning_rate\n",
    "* 3) n_estimator\n",
    "* 4) subsample\n",
    "* 등등.. 너무 많음\n",
    "\n",
    "### 2,3번 Parameter의 값을 변경했을 때 어떤 변화가 있는지 확인해보자."
   ]
  },
  {
   "cell_type": "code",
   "execution_count": 165,
   "id": "d0372256",
   "metadata": {},
   "outputs": [],
   "source": [
    "# Case1 : 모든 인자 값을 Default로 설정한 경우\n",
    "\n",
    "model_gb1 = GB()"
   ]
  },
  {
   "cell_type": "code",
   "execution_count": 166,
   "id": "f4f5a015",
   "metadata": {},
   "outputs": [
    {
     "data": {
      "text/plain": [
       "GradientBoostingClassifier()"
      ]
     },
     "execution_count": 166,
     "metadata": {},
     "output_type": "execute_result"
    }
   ],
   "source": [
    "model_gb1.fit(Train_X, Train_Y)"
   ]
  },
  {
   "cell_type": "code",
   "execution_count": 167,
   "id": "9378d7f6",
   "metadata": {},
   "outputs": [],
   "source": [
    "pred_Y_gb1 = model_gb1.predict(Test_X)"
   ]
  },
  {
   "cell_type": "code",
   "execution_count": 168,
   "id": "547828e6",
   "metadata": {},
   "outputs": [
    {
     "name": "stdout",
     "output_type": "stream",
     "text": [
      "Accuracy Score By Gradient Boosting(1)              >> 0.981\n",
      "Recall Score By Gradient Boosting(1)                >> 0.996\n",
      "F1 Measure By Gradient Boosting(1)                  >> 0.989\n"
     ]
    }
   ],
   "source": [
    "acc_gb1 = accuracy_score(y_true = Test_Y, y_pred = pred_Y_gb1)\n",
    "recall_gb1 = recall_score(y_true = Test_Y, y_pred = pred_Y_gb1, pos_label = 0) # 우리는 Positive를 0으로 설정했음\n",
    "f1_gb1 = f1_score(y_true = Test_Y, y_pred = pred_Y_gb1, pos_label = 0)\n",
    "\n",
    "print(\"Accuracy Score By Gradient Boosting(1)              >> {:.3f}\".format(acc_gb1))\n",
    "print(\"Recall Score By Gradient Boosting(1)                >> {:.3f}\".format(recall_gb1))\n",
    "print(\"F1 Measure By Gradient Boosting(1)                  >> {:.3f}\".format(f1_gb1))"
   ]
  },
  {
   "cell_type": "code",
   "execution_count": 169,
   "id": "b415421e",
   "metadata": {},
   "outputs": [],
   "source": [
    "# Case2 : learning_rate 값 조정(1)\n",
    "\n",
    "model_gb2 = GB(learning_rate = 0.001)"
   ]
  },
  {
   "cell_type": "code",
   "execution_count": 170,
   "id": "397d7d92",
   "metadata": {},
   "outputs": [
    {
     "data": {
      "text/plain": [
       "GradientBoostingClassifier(learning_rate=0.001)"
      ]
     },
     "execution_count": 170,
     "metadata": {},
     "output_type": "execute_result"
    }
   ],
   "source": [
    "model_gb2.fit(Train_X, Train_Y)"
   ]
  },
  {
   "cell_type": "code",
   "execution_count": 171,
   "id": "44428bda",
   "metadata": {},
   "outputs": [],
   "source": [
    "pred_Y_gb2 = model_gb2.predict(Test_X)"
   ]
  },
  {
   "cell_type": "code",
   "execution_count": 172,
   "id": "2c3cf6f8",
   "metadata": {},
   "outputs": [
    {
     "name": "stdout",
     "output_type": "stream",
     "text": [
      "Accuracy Score By Gradient Boosting(2)              >> 0.899\n",
      "Recall Score By Gradient Boosting(2)                >> 1.000\n",
      "F1 Measure By Gradient Boosting(2)                  >> 0.947\n"
     ]
    }
   ],
   "source": [
    "acc_gb2 = accuracy_score(y_true = Test_Y, y_pred = pred_Y_gb2)\n",
    "recall_gb2 = recall_score(y_true = Test_Y, y_pred = pred_Y_gb2, pos_label = 0) # 우리는 Positive를 0으로 설정했음\n",
    "f1_gb2 = f1_score(y_true = Test_Y, y_pred = pred_Y_gb2, pos_label = 0)\n",
    "\n",
    "print(\"Accuracy Score By Gradient Boosting(2)              >> {:.3f}\".format(acc_gb2))\n",
    "print(\"Recall Score By Gradient Boosting(2)                >> {:.3f}\".format(recall_gb2))\n",
    "print(\"F1 Measure By Gradient Boosting(2)                  >> {:.3f}\".format(f1_gb2))\n",
    "\n",
    "# Recall 지표가 1이라는 것은 Overfitting이 일어났다는 것일까...?"
   ]
  },
  {
   "cell_type": "code",
   "execution_count": 173,
   "id": "fbdde6bb",
   "metadata": {},
   "outputs": [],
   "source": [
    "# Case3 : learning_rate 값 조정(2)\n",
    "\n",
    "model_gb3 = GB(learning_rate = 0.35)"
   ]
  },
  {
   "cell_type": "code",
   "execution_count": 174,
   "id": "da2dba1a",
   "metadata": {},
   "outputs": [
    {
     "data": {
      "text/plain": [
       "GradientBoostingClassifier(learning_rate=0.35)"
      ]
     },
     "execution_count": 174,
     "metadata": {},
     "output_type": "execute_result"
    }
   ],
   "source": [
    "model_gb3.fit(Train_X, Train_Y)"
   ]
  },
  {
   "cell_type": "code",
   "execution_count": 175,
   "id": "4282993d",
   "metadata": {},
   "outputs": [],
   "source": [
    "pred_Y_gb3 = model_gb3.predict(Test_X)"
   ]
  },
  {
   "cell_type": "code",
   "execution_count": 176,
   "id": "88116285",
   "metadata": {},
   "outputs": [
    {
     "name": "stdout",
     "output_type": "stream",
     "text": [
      "Accuracy Score By Gradient Boosting(3)              >> 0.980\n",
      "Recall Score By Gradient Boosting(3)                >> 0.994\n",
      "F1 Measure By Gradient Boosting(3)                  >> 0.989\n"
     ]
    }
   ],
   "source": [
    "acc_gb3 = accuracy_score(y_true = Test_Y, y_pred = pred_Y_gb3)\n",
    "recall_gb3 = recall_score(y_true = Test_Y, y_pred = pred_Y_gb3, pos_label = 0) # 우리는 Positive를 0으로 설정했음\n",
    "f1_gb3 = f1_score(y_true = Test_Y, y_pred = pred_Y_gb3, pos_label = 0)\n",
    "\n",
    "print(\"Accuracy Score By Gradient Boosting(3)              >> {:.3f}\".format(acc_gb3))\n",
    "print(\"Recall Score By Gradient Boosting(3)                >> {:.3f}\".format(recall_gb3))\n",
    "print(\"F1 Measure By Gradient Boosting(3)                  >> {:.3f}\".format(f1_gb3))"
   ]
  },
  {
   "cell_type": "code",
   "execution_count": 177,
   "id": "12c7c805",
   "metadata": {},
   "outputs": [],
   "source": [
    "# Case4 : n_estimators값 조정(1), learning_rate = 0.35로 앞으로 고정\n",
    "\n",
    "model_gb4 = GB(learning_rate = 0.35, n_estimators = 50)"
   ]
  },
  {
   "cell_type": "code",
   "execution_count": 178,
   "id": "45e4a0ca",
   "metadata": {},
   "outputs": [
    {
     "data": {
      "text/plain": [
       "GradientBoostingClassifier(learning_rate=0.35, n_estimators=50)"
      ]
     },
     "execution_count": 178,
     "metadata": {},
     "output_type": "execute_result"
    }
   ],
   "source": [
    "model_gb4.fit(Train_X, Train_Y)"
   ]
  },
  {
   "cell_type": "code",
   "execution_count": 179,
   "id": "0a896215",
   "metadata": {},
   "outputs": [],
   "source": [
    "pred_Y_gb4 = model_gb4.predict(Test_X)"
   ]
  },
  {
   "cell_type": "code",
   "execution_count": 180,
   "id": "73279856",
   "metadata": {},
   "outputs": [
    {
     "name": "stdout",
     "output_type": "stream",
     "text": [
      "Accuracy Score By Gradient Boosting(4)              >> 0.981\n",
      "Recall Score By Gradient Boosting(4)                >> 0.995\n",
      "F1 Measure By Gradient Boosting(4)                  >> 0.989\n"
     ]
    }
   ],
   "source": [
    "acc_gb4 = accuracy_score(y_true = Test_Y, y_pred = pred_Y_gb4)\n",
    "recall_gb4 = recall_score(y_true = Test_Y, y_pred = pred_Y_gb4, pos_label = 0) # 우리는 Positive를 0으로 설정했음\n",
    "f1_gb4 = f1_score(y_true = Test_Y, y_pred = pred_Y_gb4, pos_label = 0)\n",
    "\n",
    "print(\"Accuracy Score By Gradient Boosting(4)              >> {:.3f}\".format(acc_gb4))\n",
    "print(\"Recall Score By Gradient Boosting(4)                >> {:.3f}\".format(recall_gb4))\n",
    "print(\"F1 Measure By Gradient Boosting(4)                  >> {:.3f}\".format(f1_gb4))"
   ]
  },
  {
   "cell_type": "code",
   "execution_count": 181,
   "id": "35a37aed",
   "metadata": {},
   "outputs": [],
   "source": [
    "# Case5 : n_estimators값 조정(2)\n",
    "\n",
    "model_gb5 = GB(learning_rate = 0.35, n_estimators = 1000)"
   ]
  },
  {
   "cell_type": "code",
   "execution_count": 182,
   "id": "262b460c",
   "metadata": {},
   "outputs": [
    {
     "data": {
      "text/plain": [
       "GradientBoostingClassifier(learning_rate=0.35, n_estimators=1000)"
      ]
     },
     "execution_count": 182,
     "metadata": {},
     "output_type": "execute_result"
    }
   ],
   "source": [
    "model_gb5.fit(Train_X, Train_Y)"
   ]
  },
  {
   "cell_type": "code",
   "execution_count": 183,
   "id": "3c77ec74",
   "metadata": {},
   "outputs": [],
   "source": [
    "pred_Y_gb5 = model_gb5.predict(Test_X)"
   ]
  },
  {
   "cell_type": "code",
   "execution_count": 184,
   "id": "5a62905b",
   "metadata": {},
   "outputs": [
    {
     "name": "stdout",
     "output_type": "stream",
     "text": [
      "Accuracy Score By Gradient Boosting(5)              >> 0.983\n",
      "Recall Score By Gradient Boosting(5)                >> 0.996\n",
      "F1 Measure By Gradient Boosting(5)                  >> 0.991\n"
     ]
    }
   ],
   "source": [
    "acc_gb5 = accuracy_score(y_true = Test_Y, y_pred = pred_Y_gb5)\n",
    "recall_gb5 = recall_score(y_true = Test_Y, y_pred = pred_Y_gb5, pos_label = 0) # 우리는 Positive를 0으로 설정했음\n",
    "f1_gb5 = f1_score(y_true = Test_Y, y_pred = pred_Y_gb5, pos_label = 0)\n",
    "\n",
    "print(\"Accuracy Score By Gradient Boosting(5)              >> {:.3f}\".format(acc_gb5))\n",
    "print(\"Recall Score By Gradient Boosting(5)                >> {:.3f}\".format(recall_gb5))\n",
    "print(\"F1 Measure By Gradient Boosting(5)                  >> {:.3f}\".format(f1_gb5))"
   ]
  },
  {
   "cell_type": "markdown",
   "id": "b1502ee5",
   "metadata": {},
   "source": [
    "----\n",
    "# 전체 과정을 하고 느낀점 일부..?\n",
    "\n",
    "* 일단 지표 값들이 90%가 이상인 것을 보았을 때 우리의 데이터가 그렇게까지 복잡한 데이터가 아닌 것으로 판단이 됨.\n",
    "\n",
    "* 그렇다면, 특정 알고리즘이 뛰어난 성능을 보인다고 볼 수 없는 것 같다.\n",
    "* 결국에는 상황에 따라서 내가 직접 다양한 알고리즘을 적용을 해보고 또 그 알고리즘 API의 Parameter들을 바꿔 가보면서 적절한 알고리즘을 써야되는 것이라고 생각을 하게 된다."
   ]
  },
  {
   "cell_type": "code",
   "execution_count": null,
   "id": "3f0a810f",
   "metadata": {},
   "outputs": [],
   "source": []
  }
 ],
 "metadata": {
  "kernelspec": {
   "display_name": "Python 3",
   "language": "python",
   "name": "python3"
  },
  "language_info": {
   "codemirror_mode": {
    "name": "ipython",
    "version": 3
   },
   "file_extension": ".py",
   "mimetype": "text/x-python",
   "name": "python",
   "nbconvert_exporter": "python",
   "pygments_lexer": "ipython3",
   "version": "3.8.13"
  }
 },
 "nbformat": 4,
 "nbformat_minor": 5
}
